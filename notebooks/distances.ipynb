{
 "cells": [
  {
   "cell_type": "code",
   "execution_count": 1,
   "id": "initial_id",
   "metadata": {
    "collapsed": true,
    "ExecuteTime": {
     "end_time": "2024-04-14T15:44:36.511638Z",
     "start_time": "2024-04-14T15:44:35.220804Z"
    }
   },
   "outputs": [],
   "source": [
    "import math\n",
    "from typing import Callable, Tuple\n",
    "\n",
    "import numpy as np\n",
    "import equinox\n",
    "import jax\n",
    "import jax.numpy as jnp\n",
    "import jax.scipy.ndimage\n",
    "import tensorial.distances"
   ]
  },
  {
   "cell_type": "code",
   "outputs": [],
   "source": [
    "def get_num_plane_repetitions_to_bound_sphere(radius: float, volume: float, cross_len: float) -> float:\n",
    "    # The vector normal to the plane\n",
    "    return radius / volume * cross_len"
   ],
   "metadata": {
    "collapsed": false,
    "ExecuteTime": {
     "end_time": "2024-04-14T15:44:36.516525Z",
     "start_time": "2024-04-14T15:44:36.513335Z"
    }
   },
   "id": "52822ecd13d55eb6",
   "execution_count": 2
  },
  {
   "cell_type": "code",
   "outputs": [],
   "source": [
    "class PeriodicNeighbourCalculator(equinox.Module):\n",
    "    _cell: jax.Array\n",
    "    _cutoff: float\n",
    "    _cutoff_sq: float\n",
    "    _max_cell_multiples: int\n",
    "    _volume: float   \n",
    "    _always_inside : jax.Array\n",
    "    _always_inside_cells: jax.Array\n",
    "    _halo: jax.Array\n",
    "    _halo_cells: jax.Array\n",
    "\n",
    "    def __init__(self, cell: jax.Array, cutoff: float, max_cell_multiples=100_000):\n",
    "        self._cell = cell\n",
    "        self._cutoff = cutoff\n",
    "        self._cutoff_sq = cutoff * cutoff\n",
    "        self._max_cell_multiples = max_cell_multiples\n",
    "        # Unit cell volume\n",
    "        self._volume = jnp.abs(jnp.dot(cell[0], jnp.cross(cell[1], cell[2])))\n",
    "\n",
    "        max0 = self._get_max(0)\n",
    "        max1 = self._get_max(1)\n",
    "        max2 = self._get_max(2)\n",
    "        \n",
    "        if max0 > max_cell_multiples:\n",
    "            max0 = max_cell_multiples\n",
    "        if max1 > max_cell_multiples:\n",
    "            max1 = max_cell_multiples\n",
    "        if max2 > max_cell_multiples:\n",
    "            max2 = max_cell_multiples\n",
    "            \n",
    "        cell_grid = jnp.array(jnp.meshgrid(\n",
    "            jnp.arange(-max0, max0 + 1),\n",
    "            jnp.arange(-max1, max1 + 1),\n",
    "            jnp.arange(-max2, max2 + 1)\n",
    "        ))\n",
    "        reshaped = cell_grid.T.reshape(-1, 3)\n",
    "        \n",
    "        grid_points = jax.vmap(\n",
    "            lambda grid_coords: jnp.multiply(grid_coords, cell).sum(axis=1))(reshaped)\n",
    "        \n",
    "        norms_sq = (grid_points**2).sum(axis=1).reshape(cell_grid.shape[1:])\n",
    "        \n",
    "        # Calculate a mask, and put back into the original [l, m, n] shape so we can do a convolution\n",
    "        mask = (norms_sq < self._cutoff_sq)\n",
    "        convolved = jax.scipy.signal.convolve(mask, jnp.ones((2, 2, 2)), mode='same').reshape(-1)\n",
    "        \n",
    "        # If a unit cell and all of its eight surrounding neighbour grid points (that can be arrived at by adding all possible\n",
    "        # combinations of lattice vectors) are inside the cutoff, then we never need to check this unit cell again as no vector\n",
    "        # inside it can ever leave the cutoff sphere\n",
    "        always_inside_indices = (convolved == 8.)\n",
    "        self._always_inside = grid_points[always_inside_indices]\n",
    "        self._always_inside_cells = reshaped[always_inside_indices]\n",
    "        \n",
    "        # The halo region is where a grid point has one or more neighbouring grid points (or itself) that are within the cutoff\n",
    "        # sphere, and therefore part of the unit cell is inside.  These will need to be checked depending on the actual\n",
    "        # displacement vector within the cell\n",
    "        in_halo = (convolved > 0.) & ~always_inside_indices\n",
    "        self._halo = grid_points[in_halo]\n",
    "        self._halo_cells = reshaped[in_halo]\n",
    "\n",
    "    def _get_max(self, cell_vector: int) -> int:\n",
    "        vec1 = (cell_vector + 1) % 3\n",
    "        vec2 = (cell_vector + 2) % 3\n",
    "        vec1_cross_vec2_len = jnp.linalg.norm(jnp.cross(self._cell[vec1], self._cell[vec2]))\n",
    "        return math.ceil(\n",
    "            get_num_plane_repetitions_to_bound_sphere(\n",
    "                self._cutoff, self._volume, vec1_cross_vec2_len,\n",
    "            )\n",
    "        )\n",
    "    \n",
    "    def __call__(self, r2: jax.Array, r1: jax.Array):\n",
    "        dr = r2 - r1\n",
    "        get_pts = jax.vmap(lambda grid_point: grid_point +  dr)\n",
    "        neighbour_vecs = get_pts(self._always_inside)\n",
    "        \n",
    "        halo_vecs = get_pts(self._halo)\n",
    "        norms_sq = (halo_vecs**2).sum(axis=1)\n",
    "        halo_indices = norms_sq < self._cutoff_sq\n",
    "        halo_vecs = halo_vecs[halo_indices]\n",
    "        halo_cells = self._halo_cells[halo_indices]\n",
    "        \n",
    "        return jnp.concat((neighbour_vecs, halo_vecs)), jnp.concat((self._always_inside_cells, halo_cells))"
   ],
   "metadata": {
    "collapsed": false,
    "ExecuteTime": {
     "end_time": "2024-04-14T17:03:40.394933Z",
     "start_time": "2024-04-14T17:03:40.384012Z"
    }
   },
   "id": "fea271b65562a919",
   "execution_count": 92
  },
  {
   "cell_type": "code",
   "outputs": [
    {
     "name": "stdout",
     "output_type": "stream",
     "text": [
      "8\n"
     ]
    }
   ],
   "source": [
    "cell = 5. * np.eye(3, 3)\n",
    "cutoff = 8.7\n",
    "faster_calculator = PeriodicNeighbourCalculator(cell, cutoff)\n",
    "slower_calculator = tensorial.distances.Periodic(cell, cutoff)"
   ],
   "metadata": {
    "collapsed": false,
    "ExecuteTime": {
     "end_time": "2024-04-14T17:03:40.822902Z",
     "start_time": "2024-04-14T17:03:40.800599Z"
    }
   },
   "id": "efa6447fe5c0c853",
   "execution_count": 93
  },
  {
   "cell_type": "code",
   "outputs": [],
   "source": [
    "vecs = jnp.array([0., 0., 0]), jnp.array([0.05, 0., 0.])"
   ],
   "metadata": {
    "collapsed": false,
    "ExecuteTime": {
     "end_time": "2024-04-14T17:03:41.684144Z",
     "start_time": "2024-04-14T17:03:41.678552Z"
    }
   },
   "id": "16f5d517a3d6ff28",
   "execution_count": 94
  },
  {
   "cell_type": "code",
   "outputs": [
    {
     "data": {
      "text/plain": "Array([0.05     , 5.00025  , 4.95     , 7.0358014, 5.00025  , 7.0712447,\n       7.0358014, 8.631483 , 8.689218 , 7.106511 , 8.689218 , 7.0712447,\n       5.00025  , 7.0712447, 8.631483 , 7.0358014, 8.631483 , 7.106511 ,\n       5.05     , 7.106511 , 5.00025  , 7.0358014, 8.689218 , 7.106511 ,\n       8.689218 , 7.0712447, 8.631483 ], dtype=float32)"
     },
     "execution_count": 96,
     "metadata": {},
     "output_type": "execute_result"
    }
   ],
   "source": [
    "pts = faster_calculator(*vecs)[0]\n",
    "jnp.linalg.norm(pts, axis=1)"
   ],
   "metadata": {
    "collapsed": false,
    "ExecuteTime": {
     "end_time": "2024-04-14T17:03:49.708030Z",
     "start_time": "2024-04-14T17:03:49.699649Z"
    }
   },
   "id": "2cbe510aa2c880e0",
   "execution_count": 96
  },
  {
   "cell_type": "code",
   "outputs": [
    {
     "data": {
      "text/plain": "Array([8.631483 , 7.0358014, 8.631483 , 7.0358014, 4.95     , 7.0358014,\n       8.631483 , 7.0358014, 8.631483 , 7.0712447, 5.00025  , 7.0712447,\n       5.00025  , 0.05     , 5.00025  , 7.0712447, 5.00025  , 7.0712447,\n       8.689218 , 7.106511 , 8.689218 , 7.106511 , 5.05     , 7.106511 ,\n       8.689218 , 7.106511 , 8.689218 ], dtype=float32)"
     },
     "execution_count": 97,
     "metadata": {},
     "output_type": "execute_result"
    }
   ],
   "source": [
    "pts = slower_calculator(*vecs)[0]\n",
    "jnp.linalg.norm(pts, axis=1)"
   ],
   "metadata": {
    "collapsed": false,
    "ExecuteTime": {
     "end_time": "2024-04-14T17:03:50.331980Z",
     "start_time": "2024-04-14T17:03:50.245086Z"
    }
   },
   "id": "11403e17ec68bd8b",
   "execution_count": 97
  },
  {
   "cell_type": "code",
   "outputs": [
    {
     "data": {
      "text/plain": "Array([[0., 0., 0.],\n       [0., 5., 0.],\n       [5., 0., 0.],\n       [5., 5., 0.],\n       [0., 0., 5.],\n       [0., 5., 5.],\n       [5., 0., 5.],\n       [5., 5., 5.]], dtype=float32)"
     },
     "execution_count": 72,
     "metadata": {},
     "output_type": "execute_result"
    }
   ],
   "source": [
    "faster_calculator._always_inside"
   ],
   "metadata": {
    "collapsed": false,
    "ExecuteTime": {
     "end_time": "2024-04-14T16:46:43.866462Z",
     "start_time": "2024-04-14T16:46:43.862405Z"
    }
   },
   "id": "e53c39ce45499760",
   "execution_count": 72
  },
  {
   "cell_type": "code",
   "outputs": [],
   "source": [
    "max0 = max1 = max2 = 2\n",
    "grid = jnp.array(jnp.meshgrid(\n",
    "    jnp.arange(-max0, max0 + 1),\n",
    "    jnp.arange(-max1, max1 + 1),\n",
    "    jnp.arange(-max2, max2 + 1)\n",
    "))\n",
    "reshaped = grid.T.reshape(-1, 3)"
   ],
   "metadata": {
    "collapsed": false,
    "ExecuteTime": {
     "end_time": "2024-04-14T16:18:14.267358Z",
     "start_time": "2024-04-14T16:18:14.262246Z"
    }
   },
   "id": "47817deace7b7511",
   "execution_count": 30
  },
  {
   "cell_type": "code",
   "outputs": [],
   "source": [
    "grid_points = jax.vmap(\n",
    "    lambda grid_coords: jnp.multiply(grid_coords, cell).sum(axis=1))(reshaped)\n",
    "norms_sq = jnp.linalg.norm(grid_points, axis=1, ord=2).reshape(grid.shape[1:])"
   ],
   "metadata": {
    "collapsed": false,
    "ExecuteTime": {
     "end_time": "2024-04-14T16:19:12.289882Z",
     "start_time": "2024-04-14T16:19:12.275586Z"
    }
   },
   "id": "8089f33f42e124e7",
   "execution_count": 32
  },
  {
   "cell_type": "code",
   "outputs": [
    {
     "name": "stdout",
     "output_type": "stream",
     "text": [
      "2 2 2\n"
     ]
    }
   ],
   "source": [
    "print(max0, max1, max2)\n",
    "\n",
    "grid = jnp.array(jnp.meshgrid(\n",
    "    jnp.arange(-max0, max0 + 1),\n",
    "    jnp.arange(-max1, max1 + 1),\n",
    "    jnp.arange(-max2, max2 + 1)\n",
    "))\n",
    "reshaped = grid.T.reshape(-1, 3)"
   ],
   "metadata": {
    "collapsed": false,
    "ExecuteTime": {
     "end_time": "2024-04-14T16:28:58.195517Z",
     "start_time": "2024-04-14T16:28:58.180606Z"
    }
   },
   "id": "446092d371f273c4",
   "execution_count": 45
  },
  {
   "cell_type": "code",
   "outputs": [
    {
     "data": {
      "text/plain": "Array([[-2, -2, -2],\n       [-2, -1, -2],\n       [-2,  0, -2],\n       [-2,  1, -2],\n       [-2,  2, -2],\n       [-1, -2, -2],\n       [-1, -1, -2],\n       [-1,  0, -2],\n       [-1,  1, -2],\n       [-1,  2, -2],\n       [ 0, -2, -2],\n       [ 0, -1, -2],\n       [ 0,  0, -2],\n       [ 0,  1, -2],\n       [ 0,  2, -2],\n       [ 1, -2, -2],\n       [ 1, -1, -2],\n       [ 1,  0, -2],\n       [ 1,  1, -2],\n       [ 1,  2, -2],\n       [ 2, -2, -2],\n       [ 2, -1, -2],\n       [ 2,  0, -2],\n       [ 2,  1, -2],\n       [ 2,  2, -2],\n       [-2, -2, -1],\n       [-2, -1, -1],\n       [-2,  0, -1],\n       [-2,  1, -1],\n       [-2,  2, -1],\n       [-1, -2, -1],\n       [-1, -1, -1],\n       [-1,  0, -1],\n       [-1,  1, -1],\n       [-1,  2, -1],\n       [ 0, -2, -1],\n       [ 0, -1, -1],\n       [ 0,  0, -1],\n       [ 0,  1, -1],\n       [ 0,  2, -1],\n       [ 1, -2, -1],\n       [ 1, -1, -1],\n       [ 1,  0, -1],\n       [ 1,  1, -1],\n       [ 1,  2, -1],\n       [ 2, -2, -1],\n       [ 2, -1, -1],\n       [ 2,  0, -1],\n       [ 2,  1, -1],\n       [ 2,  2, -1],\n       [-2, -2,  0],\n       [-2, -1,  0],\n       [-2,  0,  0],\n       [-2,  1,  0],\n       [-2,  2,  0],\n       [-1, -2,  0],\n       [-1, -1,  0],\n       [-1,  0,  0],\n       [-1,  1,  0],\n       [-1,  2,  0],\n       [ 0, -2,  0],\n       [ 0, -1,  0],\n       [ 0,  0,  0],\n       [ 0,  1,  0],\n       [ 0,  2,  0],\n       [ 1, -2,  0],\n       [ 1, -1,  0],\n       [ 1,  0,  0],\n       [ 1,  1,  0],\n       [ 1,  2,  0],\n       [ 2, -2,  0],\n       [ 2, -1,  0],\n       [ 2,  0,  0],\n       [ 2,  1,  0],\n       [ 2,  2,  0],\n       [-2, -2,  1],\n       [-2, -1,  1],\n       [-2,  0,  1],\n       [-2,  1,  1],\n       [-2,  2,  1],\n       [-1, -2,  1],\n       [-1, -1,  1],\n       [-1,  0,  1],\n       [-1,  1,  1],\n       [-1,  2,  1],\n       [ 0, -2,  1],\n       [ 0, -1,  1],\n       [ 0,  0,  1],\n       [ 0,  1,  1],\n       [ 0,  2,  1],\n       [ 1, -2,  1],\n       [ 1, -1,  1],\n       [ 1,  0,  1],\n       [ 1,  1,  1],\n       [ 1,  2,  1],\n       [ 2, -2,  1],\n       [ 2, -1,  1],\n       [ 2,  0,  1],\n       [ 2,  1,  1],\n       [ 2,  2,  1],\n       [-2, -2,  2],\n       [-2, -1,  2],\n       [-2,  0,  2],\n       [-2,  1,  2],\n       [-2,  2,  2],\n       [-1, -2,  2],\n       [-1, -1,  2],\n       [-1,  0,  2],\n       [-1,  1,  2],\n       [-1,  2,  2],\n       [ 0, -2,  2],\n       [ 0, -1,  2],\n       [ 0,  0,  2],\n       [ 0,  1,  2],\n       [ 0,  2,  2],\n       [ 1, -2,  2],\n       [ 1, -1,  2],\n       [ 1,  0,  2],\n       [ 1,  1,  2],\n       [ 1,  2,  2],\n       [ 2, -2,  2],\n       [ 2, -1,  2],\n       [ 2,  0,  2],\n       [ 2,  1,  2],\n       [ 2,  2,  2]], dtype=int32)"
     },
     "execution_count": 47,
     "metadata": {},
     "output_type": "execute_result"
    }
   ],
   "source": [
    "reshaped"
   ],
   "metadata": {
    "collapsed": false,
    "ExecuteTime": {
     "end_time": "2024-04-14T16:29:26.016356Z",
     "start_time": "2024-04-14T16:29:26.011800Z"
    }
   },
   "id": "96e8f4d89e2764a4",
   "execution_count": 47
  },
  {
   "cell_type": "code",
   "outputs": [
    {
     "data": {
      "text/plain": "Array([[-10., -10., -10.],\n       [-10.,  -5., -10.],\n       [-10.,   0., -10.],\n       [-10.,   5., -10.],\n       [-10.,  10., -10.],\n       [ -5., -10., -10.],\n       [ -5.,  -5., -10.],\n       [ -5.,   0., -10.],\n       [ -5.,   5., -10.],\n       [ -5.,  10., -10.],\n       [  0., -10., -10.],\n       [  0.,  -5., -10.],\n       [  0.,   0., -10.],\n       [  0.,   5., -10.],\n       [  0.,  10., -10.],\n       [  5., -10., -10.],\n       [  5.,  -5., -10.],\n       [  5.,   0., -10.],\n       [  5.,   5., -10.],\n       [  5.,  10., -10.],\n       [ 10., -10., -10.],\n       [ 10.,  -5., -10.],\n       [ 10.,   0., -10.],\n       [ 10.,   5., -10.],\n       [ 10.,  10., -10.],\n       [-10., -10.,  -5.],\n       [-10.,  -5.,  -5.],\n       [-10.,   0.,  -5.],\n       [-10.,   5.,  -5.],\n       [-10.,  10.,  -5.],\n       [ -5., -10.,  -5.],\n       [ -5.,  -5.,  -5.],\n       [ -5.,   0.,  -5.],\n       [ -5.,   5.,  -5.],\n       [ -5.,  10.,  -5.],\n       [  0., -10.,  -5.],\n       [  0.,  -5.,  -5.],\n       [  0.,   0.,  -5.],\n       [  0.,   5.,  -5.],\n       [  0.,  10.,  -5.],\n       [  5., -10.,  -5.],\n       [  5.,  -5.,  -5.],\n       [  5.,   0.,  -5.],\n       [  5.,   5.,  -5.],\n       [  5.,  10.,  -5.],\n       [ 10., -10.,  -5.],\n       [ 10.,  -5.,  -5.],\n       [ 10.,   0.,  -5.],\n       [ 10.,   5.,  -5.],\n       [ 10.,  10.,  -5.],\n       [-10., -10.,   0.],\n       [-10.,  -5.,   0.],\n       [-10.,   0.,   0.],\n       [-10.,   5.,   0.],\n       [-10.,  10.,   0.],\n       [ -5., -10.,   0.],\n       [ -5.,  -5.,   0.],\n       [ -5.,   0.,   0.],\n       [ -5.,   5.,   0.],\n       [ -5.,  10.,   0.],\n       [  0., -10.,   0.],\n       [  0.,  -5.,   0.],\n       [  0.,   0.,   0.],\n       [  0.,   5.,   0.],\n       [  0.,  10.,   0.],\n       [  5., -10.,   0.],\n       [  5.,  -5.,   0.],\n       [  5.,   0.,   0.],\n       [  5.,   5.,   0.],\n       [  5.,  10.,   0.],\n       [ 10., -10.,   0.],\n       [ 10.,  -5.,   0.],\n       [ 10.,   0.,   0.],\n       [ 10.,   5.,   0.],\n       [ 10.,  10.,   0.],\n       [-10., -10.,   5.],\n       [-10.,  -5.,   5.],\n       [-10.,   0.,   5.],\n       [-10.,   5.,   5.],\n       [-10.,  10.,   5.],\n       [ -5., -10.,   5.],\n       [ -5.,  -5.,   5.],\n       [ -5.,   0.,   5.],\n       [ -5.,   5.,   5.],\n       [ -5.,  10.,   5.],\n       [  0., -10.,   5.],\n       [  0.,  -5.,   5.],\n       [  0.,   0.,   5.],\n       [  0.,   5.,   5.],\n       [  0.,  10.,   5.],\n       [  5., -10.,   5.],\n       [  5.,  -5.,   5.],\n       [  5.,   0.,   5.],\n       [  5.,   5.,   5.],\n       [  5.,  10.,   5.],\n       [ 10., -10.,   5.],\n       [ 10.,  -5.,   5.],\n       [ 10.,   0.,   5.],\n       [ 10.,   5.,   5.],\n       [ 10.,  10.,   5.],\n       [-10., -10.,  10.],\n       [-10.,  -5.,  10.],\n       [-10.,   0.,  10.],\n       [-10.,   5.,  10.],\n       [-10.,  10.,  10.],\n       [ -5., -10.,  10.],\n       [ -5.,  -5.,  10.],\n       [ -5.,   0.,  10.],\n       [ -5.,   5.,  10.],\n       [ -5.,  10.,  10.],\n       [  0., -10.,  10.],\n       [  0.,  -5.,  10.],\n       [  0.,   0.,  10.],\n       [  0.,   5.,  10.],\n       [  0.,  10.,  10.],\n       [  5., -10.,  10.],\n       [  5.,  -5.,  10.],\n       [  5.,   0.,  10.],\n       [  5.,   5.,  10.],\n       [  5.,  10.,  10.],\n       [ 10., -10.,  10.],\n       [ 10.,  -5.,  10.],\n       [ 10.,   0.,  10.],\n       [ 10.,   5.,  10.],\n       [ 10.,  10.,  10.]], dtype=float32)"
     },
     "execution_count": 48,
     "metadata": {},
     "output_type": "execute_result"
    }
   ],
   "source": [
    "grid_points = jax.vmap(\n",
    "    lambda grid_coords: jnp.multiply(grid_coords, cell).sum(axis=1))(reshaped)\n",
    "grid_points"
   ],
   "metadata": {
    "collapsed": false,
    "ExecuteTime": {
     "end_time": "2024-04-14T16:29:51.995974Z",
     "start_time": "2024-04-14T16:29:51.988985Z"
    }
   },
   "id": "28c59f52e860a55f",
   "execution_count": 48
  },
  {
   "cell_type": "code",
   "outputs": [],
   "source": [
    "norms_sq = (grid_points**2).sum(axis=1).reshape(grid.shape[1:])"
   ],
   "metadata": {
    "collapsed": false,
    "ExecuteTime": {
     "end_time": "2024-04-14T16:47:43.424644Z",
     "start_time": "2024-04-14T16:47:43.421465Z"
    }
   },
   "id": "a3a313c5fafd9769",
   "execution_count": 73
  },
  {
   "cell_type": "code",
   "outputs": [
    {
     "name": "stdout",
     "output_type": "stream",
     "text": [
      "Convolved: (5, 5, 5), (125, 3)\n"
     ]
    }
   ],
   "source": [
    "# Calculate a mask, and put back into the original [l, m, n] shape so we can do a convolution\n",
    "mask = (norms_sq < 8.7**2)\n",
    "convolved = jax.scipy.signal.convolve(mask, jnp.ones((2, 2, 2)), mode='same')\n",
    "print(f\"Convolved: {convolved.shape}, {reshaped.shape}\")"
   ],
   "metadata": {
    "collapsed": false,
    "ExecuteTime": {
     "end_time": "2024-04-14T16:52:39.505190Z",
     "start_time": "2024-04-14T16:52:39.497417Z"
    }
   },
   "id": "77f5ad99c7eef2a9",
   "execution_count": 86
  },
  {
   "cell_type": "code",
   "outputs": [
    {
     "data": {
      "text/plain": "Array([[[False, False, False, False, False],\n        [False, False, False, False, False],\n        [False, False, False, False, False],\n        [False, False, False, False, False],\n        [False, False, False, False, False]],\n\n       [[False, False, False, False, False],\n        [False,  True,  True,  True, False],\n        [False,  True,  True,  True, False],\n        [False,  True,  True,  True, False],\n        [False, False, False, False, False]],\n\n       [[False, False, False, False, False],\n        [False,  True,  True,  True, False],\n        [False,  True,  True,  True, False],\n        [False,  True,  True,  True, False],\n        [False, False, False, False, False]],\n\n       [[False, False, False, False, False],\n        [False,  True,  True,  True, False],\n        [False,  True,  True,  True, False],\n        [False,  True,  True,  True, False],\n        [False, False, False, False, False]],\n\n       [[False, False, False, False, False],\n        [False, False, False, False, False],\n        [False, False, False, False, False],\n        [False, False, False, False, False],\n        [False, False, False, False, False]]], dtype=bool)"
     },
     "execution_count": 87,
     "metadata": {},
     "output_type": "execute_result"
    }
   ],
   "source": [
    "mask"
   ],
   "metadata": {
    "collapsed": false,
    "ExecuteTime": {
     "end_time": "2024-04-14T16:52:40.064415Z",
     "start_time": "2024-04-14T16:52:40.060112Z"
    }
   },
   "id": "b51db67b683fbbb0",
   "execution_count": 87
  },
  {
   "cell_type": "code",
   "outputs": [
    {
     "data": {
      "text/plain": "Array([[[0., 0., 0., 0., 0.],\n        [0., 0., 0., 0., 0.],\n        [0., 0., 0., 0., 0.],\n        [0., 0., 0., 0., 0.],\n        [0., 0., 0., 0., 0.]],\n\n       [[0., 0., 0., 0., 0.],\n        [0., 0., 0., 0., 0.],\n        [0., 0., 0., 0., 0.],\n        [0., 0., 0., 0., 0.],\n        [0., 0., 0., 0., 0.]],\n\n       [[0., 0., 0., 0., 0.],\n        [0., 0., 0., 0., 0.],\n        [0., 0., 1., 1., 0.],\n        [0., 0., 1., 1., 0.],\n        [0., 0., 0., 0., 0.]],\n\n       [[0., 0., 0., 0., 0.],\n        [0., 0., 0., 0., 0.],\n        [0., 0., 1., 1., 0.],\n        [0., 0., 1., 1., 0.],\n        [0., 0., 0., 0., 0.]],\n\n       [[0., 0., 0., 0., 0.],\n        [0., 0., 0., 0., 0.],\n        [0., 0., 0., 0., 0.],\n        [0., 0., 0., 0., 0.],\n        [0., 0., 0., 0., 0.]]], dtype=float32)"
     },
     "execution_count": 81,
     "metadata": {},
     "output_type": "execute_result"
    }
   ],
   "source": [
    "convolved"
   ],
   "metadata": {
    "collapsed": false,
    "ExecuteTime": {
     "end_time": "2024-04-14T16:49:41.707721Z",
     "start_time": "2024-04-14T16:49:41.704171Z"
    }
   },
   "id": "6c9770e724a23117",
   "execution_count": 81
  },
  {
   "cell_type": "code",
   "outputs": [],
   "source": [],
   "metadata": {
    "collapsed": false
   },
   "id": "2800590f1f7d7797"
  }
 ],
 "metadata": {
  "kernelspec": {
   "display_name": "Python 3",
   "language": "python",
   "name": "python3"
  },
  "language_info": {
   "codemirror_mode": {
    "name": "ipython",
    "version": 2
   },
   "file_extension": ".py",
   "mimetype": "text/x-python",
   "name": "python",
   "nbconvert_exporter": "python",
   "pygments_lexer": "ipython2",
   "version": "2.7.6"
  }
 },
 "nbformat": 4,
 "nbformat_minor": 5
}
