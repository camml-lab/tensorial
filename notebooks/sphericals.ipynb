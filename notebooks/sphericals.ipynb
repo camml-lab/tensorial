{
 "cells": [
  {
   "cell_type": "code",
   "execution_count": 1,
   "metadata": {
    "collapsed": true,
    "ExecuteTime": {
     "start_time": "2023-04-02T14:59:59.032174Z",
     "end_time": "2023-04-02T14:59:59.927272Z"
    }
   },
   "outputs": [
    {
     "name": "stderr",
     "output_type": "stream",
     "text": [
      "/home/martin/.local/miniconda3/envs/tensorial/lib/python3.10/site-packages/flax/core/frozen_dict.py:169: FutureWarning: jax.tree_util.register_keypaths is deprecated, and will be removed in a future release. Please use `register_pytree_with_keys()` instead.\n",
      "  jax.tree_util.register_keypaths(\n"
     ]
    }
   ],
   "source": [
    "import e3nn_jax\n",
    "import jax\n",
    "import jax.numpy as jnp\n",
    "from tensorial.signals import radials, bases"
   ]
  },
  {
   "cell_type": "code",
   "execution_count": 2,
   "outputs": [],
   "source": [
    "l_max= 4\n",
    "n_max = 4\n",
    "r_cut = 5.\n",
    "seed = 123\n",
    "\n",
    "spherical = bases.SphericalBasis(l_max=l_max)\n",
    "radial = radials.E3nnRadial(\"gaussian\", number=n_max + 1, max_radius=r_cut, cutoff=False)\n",
    "radial_spherical = bases.SimpleRadialSphericalBasis(radial, spherical)"
   ],
   "metadata": {
    "collapsed": false,
    "ExecuteTime": {
     "start_time": "2023-04-02T14:59:59.927349Z",
     "end_time": "2023-04-02T14:59:59.929852Z"
    }
   }
  },
  {
   "cell_type": "code",
   "execution_count": 3,
   "outputs": [
    {
     "data": {
      "text/plain": "1x0e+1x1o+1x2e+1x3o+1x4e+1x0e+1x1o+1x2e+1x3o+1x4e+1x0e+1x1o+1x2e+1x3o+1x4e+1x0e+1x1o+1x2e+1x3o+1x4e+1x0e+1x1o+1x2e+1x3o+1x4e"
     },
     "execution_count": 3,
     "metadata": {},
     "output_type": "execute_result"
    }
   ],
   "source": [
    "radial_spherical.irreps"
   ],
   "metadata": {
    "collapsed": false,
    "ExecuteTime": {
     "start_time": "2023-04-02T14:59:59.931692Z",
     "end_time": "2023-04-02T14:59:59.937851Z"
    }
   }
  },
  {
   "cell_type": "code",
   "execution_count": 4,
   "outputs": [
    {
     "name": "stderr",
     "output_type": "stream",
     "text": [
      "No GPU/TPU found, falling back to CPU. (Set TF_CPP_MIN_LOG_LEVEL=0 and rerun for more info.)\n"
     ]
    }
   ],
   "source": [
    "key = jax.random.PRNGKey(seed)\n",
    "arr = jax.random.uniform(key, [10, 3])"
   ],
   "metadata": {
    "collapsed": false,
    "ExecuteTime": {
     "start_time": "2023-04-02T14:59:59.939702Z",
     "end_time": "2023-04-02T15:00:00.082339Z"
    }
   }
  },
  {
   "cell_type": "code",
   "execution_count": 5,
   "outputs": [],
   "source": [
    "ang = radial_spherical.spherical.evaluate(arr).array\n",
    "rad = radial_spherical.radial.evaluate(jnp.linalg.norm(arr, axis=-1))"
   ],
   "metadata": {
    "collapsed": false,
    "ExecuteTime": {
     "start_time": "2023-04-02T15:00:00.086341Z",
     "end_time": "2023-04-02T15:00:00.640507Z"
    }
   }
  },
  {
   "cell_type": "code",
   "execution_count": 6,
   "outputs": [
    {
     "data": {
      "text/plain": "Array([[[ 6.3857257e-02,  6.3139148e-02,  5.1009782e-02, ...,\n          7.0965975e-03, -6.4800926e-02, -8.2607113e-02],\n        [ 2.4457549e-01,  2.4182507e-01,  1.9536921e-01, ...,\n          2.7180212e-02, -2.4818976e-01, -3.1638804e-01],\n        [ 1.2677293e-01,  1.2534729e-01,  1.0126741e-01, ...,\n          1.4088554e-02, -1.2864634e-01, -1.6399616e-01],\n        [ 8.8930549e-03,  8.7930467e-03,  7.1038562e-03, ...,\n          9.8830473e-04, -9.0244738e-03, -1.1504245e-02],\n        [ 8.4428088e-05,  8.3478641e-05,  6.7441957e-05, ...,\n          9.3826793e-06, -8.5675740e-05, -1.0921797e-04]],\n\n       [[ 7.3796764e-02,  5.5758014e-02,  7.9189569e-02, ...,\n          4.9181536e-02, -2.7146626e-02, -4.3985453e-02],\n        [ 2.4895118e-01,  1.8809800e-01,  2.6714364e-01, ...,\n          1.6591245e-01, -9.1578335e-02, -1.4838362e-01],\n        [ 1.1365853e-01,  8.5876040e-02,  1.2196429e-01, ...,\n          7.5747237e-02, -4.1810039e-02, -6.7744456e-02],\n        [ 7.0226467e-03,  5.3060432e-03,  7.5358362e-03, ...,\n          4.6802126e-03, -2.5833268e-03, -4.1857427e-03],\n        [ 5.8723290e-05,  4.4369073e-05,  6.3014573e-05, ...,\n          3.9135884e-05, -2.1601749e-05, -3.5001132e-05]],\n\n       [[ 1.2221974e-01,  9.1393357e-03,  8.7878913e-02, ...,\n          3.4844194e-02,  2.3730090e-01,  1.8240702e-01],\n        [ 2.4629235e-01,  1.8417226e-02,  1.7709008e-01, ...,\n          7.0216633e-02,  4.7819933e-01,  3.6757937e-01],\n        [ 6.7169398e-02,  5.0227866e-03,  4.8296403e-02, ...,\n          1.9149637e-02,  1.3041559e-01,  1.0024706e-01],\n        [ 2.4791532e-03,  1.8538587e-04,  1.7825704e-03, ...,\n          7.0679327e-04,  4.8135049e-03,  3.7000156e-03],\n        [ 1.2383578e-05,  9.2601800e-07,  8.9040886e-06, ...,\n          3.5304918e-06,  2.4043860e-05,  1.8481889e-05]],\n\n       ...,\n\n       [[ 1.3826068e-01,  1.1906183e-01,  1.2275310e-01, ...,\n          4.7263205e-02, -7.8297608e-02, -1.3053432e-01],\n        [ 2.3937753e-01,  2.0613760e-01,  2.1252848e-01, ...,\n          8.1829116e-02, -1.3556050e-01, -2.2600050e-01],\n        [ 5.6089185e-02,  4.8300650e-02,  4.9798116e-02, ...,\n          1.9173598e-02, -3.1763542e-02, -5.2954778e-02],\n        [ 1.7786317e-03,  1.5316512e-03,  1.5791371e-03, ...,\n          6.0800969e-04, -1.0072467e-03, -1.6792372e-03],\n        [ 7.6331580e-06,  6.5732188e-06,  6.7770084e-06, ...,\n          2.6093282e-06, -4.3226896e-06, -7.2065977e-06]],\n\n       [[ 2.2454333e-01,  2.2350679e-01,  2.7757093e-01, ...,\n         -1.6412914e-01, -3.3441585e-01, -9.1163717e-02],\n        [ 1.6269006e-01,  1.6193904e-01,  2.0111053e-01, ...,\n         -1.1891771e-01, -2.4229680e-01, -6.6051528e-02],\n        [ 1.5952654e-02,  1.5879015e-02,  1.9719994e-02, ...,\n         -1.1660536e-02, -2.3758534e-02, -6.4767157e-03],\n        [ 2.1169760e-04,  2.1072035e-04,  2.6169157e-04, ...,\n         -1.5473960e-04, -3.1528447e-04, -8.5948399e-05],\n        [ 3.8019749e-07,  3.7844242e-07,  4.6998397e-07, ...,\n         -2.7790401e-07, -5.6623401e-07, -1.5435870e-07]],\n\n       [[ 1.3446470e-01,  1.7216285e-01,  1.4617097e-01, ...,\n         -1.9289741e-01, -2.0432664e-01,  3.1782735e-02],\n        [ 2.4122790e-01,  3.0885786e-01,  2.6222879e-01, ...,\n         -3.4605539e-01, -3.6655930e-01,  5.7017803e-02],\n        [ 5.8567636e-02,  7.4987493e-02,  6.3666433e-02, ...,\n         -8.4018670e-02, -8.8996805e-02,  1.3843333e-02],\n        [ 1.9244162e-03,  2.4639401e-03,  2.0919526e-03, ...,\n         -2.7606864e-03, -2.9242584e-03,  4.5486444e-04],\n        [ 8.5575984e-06,  1.0956783e-05,  9.3026083e-06, ...,\n         -1.2276370e-05, -1.3003750e-05,  2.0227158e-06]]], dtype=float32)"
     },
     "execution_count": 6,
     "metadata": {},
     "output_type": "execute_result"
    }
   ],
   "source": [
    "jnp.einsum('...i,...j->...ij', rad, ang)"
   ],
   "metadata": {
    "collapsed": false,
    "ExecuteTime": {
     "start_time": "2023-04-02T15:00:00.645726Z",
     "end_time": "2023-04-02T15:00:00.660434Z"
    }
   }
  },
  {
   "cell_type": "code",
   "execution_count": 7,
   "outputs": [
    {
     "data": {
      "text/plain": "jaxlib.xla_extension.ArrayImpl"
     },
     "execution_count": 7,
     "metadata": {},
     "output_type": "execute_result"
    }
   ],
   "source": [
    "type(rad)"
   ],
   "metadata": {
    "collapsed": false,
    "ExecuteTime": {
     "start_time": "2023-04-02T15:00:00.660741Z",
     "end_time": "2023-04-02T15:00:00.705173Z"
    }
   }
  },
  {
   "cell_type": "code",
   "execution_count": 9,
   "outputs": [],
   "source": [
    "coeffs = radial_spherical.evaluate(arr)"
   ],
   "metadata": {
    "collapsed": false,
    "ExecuteTime": {
     "start_time": "2023-04-02T15:10:17.680366Z",
     "end_time": "2023-04-02T15:10:17.728221Z"
    }
   }
  },
  {
   "cell_type": "code",
   "execution_count": 29,
   "outputs": [],
   "source": [
    "grid = jnp.linspace(-r_cut, r_cut, 100)[:, jnp.newaxis].repeat(3, axis=1)\n",
    "# grid = jnp.outer(jnp.outer(grid, grid), grid)"
   ],
   "metadata": {
    "collapsed": false,
    "ExecuteTime": {
     "start_time": "2023-04-02T15:16:16.263936Z",
     "end_time": "2023-04-02T15:16:16.325100Z"
    }
   }
  },
  {
   "cell_type": "code",
   "execution_count": 32,
   "outputs": [
    {
     "data": {
      "text/plain": "(100, 5, 25)"
     },
     "execution_count": 32,
     "metadata": {},
     "output_type": "execute_result"
    }
   ],
   "source": [
    "radial_spherical.evaluate(grid).shape"
   ],
   "metadata": {
    "collapsed": false,
    "ExecuteTime": {
     "start_time": "2023-04-02T15:16:39.440222Z",
     "end_time": "2023-04-02T15:16:39.459738Z"
    }
   }
  },
  {
   "cell_type": "code",
   "execution_count": 25,
   "outputs": [],
   "source": [
    "a = jnp.linspace(-r_cut, r_cut, 100)"
   ],
   "metadata": {
    "collapsed": false,
    "ExecuteTime": {
     "start_time": "2023-04-02T15:15:07.678638Z",
     "end_time": "2023-04-02T15:15:07.720988Z"
    }
   }
  },
  {
   "cell_type": "code",
   "execution_count": 26,
   "outputs": [
    {
     "data": {
      "text/plain": "(100, 100)"
     },
     "execution_count": 26,
     "metadata": {},
     "output_type": "execute_result"
    }
   ],
   "source": [
    "jnp.outer(a, a).shape"
   ],
   "metadata": {
    "collapsed": false,
    "ExecuteTime": {
     "start_time": "2023-04-02T15:15:07.858909Z",
     "end_time": "2023-04-02T15:15:07.867736Z"
    }
   }
  },
  {
   "cell_type": "code",
   "execution_count": null,
   "outputs": [],
   "source": [],
   "metadata": {
    "collapsed": false
   }
  }
 ],
 "metadata": {
  "kernelspec": {
   "display_name": "Python 3",
   "language": "python",
   "name": "python3"
  },
  "language_info": {
   "codemirror_mode": {
    "name": "ipython",
    "version": 2
   },
   "file_extension": ".py",
   "mimetype": "text/x-python",
   "name": "python",
   "nbconvert_exporter": "python",
   "pygments_lexer": "ipython2",
   "version": "2.7.6"
  }
 },
 "nbformat": 4,
 "nbformat_minor": 0
}
