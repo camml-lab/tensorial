{
 "cells": [
  {
   "cell_type": "code",
   "execution_count": null,
   "id": "initial_id",
   "metadata": {},
   "outputs": [],
   "source": [
    "import time\n",
    "\n",
    "import jax\n",
    "import jax.numpy as jnp\n",
    "import numpy as np\n",
    "import matplotlib.pyplot as plt\n",
    "\n",
    "array_dims = tuple()"
   ]
  },
  {
   "cell_type": "code",
   "execution_count": null,
   "id": "9091359e8f6cbd8b",
   "metadata": {},
   "outputs": [],
   "source": [
    "warmup_iters = 5 \n",
    "bench_iters = 30"
   ]
  },
  {
   "cell_type": "code",
   "execution_count": null,
   "id": "df5378645983aeb5",
   "metadata": {},
   "outputs": [],
   "source": [
    "def transpose_method(array, mask):\n",
    "    return jnp.where(mask, array.T, 0.0).T"
   ]
  },
  {
   "cell_type": "code",
   "execution_count": null,
   "id": "e2f8dcd05c3c28fa",
   "metadata": {},
   "outputs": [],
   "source": [
    "def reshape_method(array, mask):\n",
    "    return jnp.where(mask.reshape(-1, *(1,) * len(array.shape[1:])), array, 0.0)"
   ]
  },
  {
   "cell_type": "code",
   "execution_count": null,
   "id": "1eceba02cdd6dc80",
   "metadata": {},
   "outputs": [],
   "source": [
    "methods = [transpose_method, reshape_method]"
   ]
  },
  {
   "cell_type": "code",
   "execution_count": null,
   "id": "e3bed8379e2d5966",
   "metadata": {},
   "outputs": [],
   "source": [
    "def benchmark(method, rng_key, size: int):\n",
    "    @jax.jit\n",
    "    def bench(array, mask):\n",
    "        res = method(array, mask)\n",
    "        return res.sum()\n",
    "\n",
    "    # Warmup\n",
    "    for _ in range(warmup_iters):\n",
    "        array = jax.random.uniform(rng_key, (size, *array_dims))\n",
    "        rng_key, key = jax.random.split(rng_key)\n",
    "        mask = jax.random.choice(rng_key, jnp.array((True, False)), shape=(size,))\n",
    "        bench(array, mask)\n",
    "\n",
    "    results = []\n",
    "    for _ in range(bench_iters):\n",
    "        array = jax.random.uniform(rng_key, (size, *array_dims))\n",
    "        rng_key, key = jax.random.split(rng_key)\n",
    "        mask = jax.random.choice(rng_key, jnp.array((True, False)), shape=(size,))\n",
    "        t0 = time.time()\n",
    "        bench(array, mask)\n",
    "        dt = time.time() - t0\n",
    "        results.append(dt)\n",
    "\n",
    "    return np.array(results)"
   ]
  },
  {
   "cell_type": "code",
   "execution_count": null,
   "id": "bf6064bbe0959bff",
   "metadata": {},
   "outputs": [],
   "source": [
    "results = {}\n",
    "for method in methods:\n",
    "    by_size = {}\n",
    "    for size in (10, 100, 10_000, 100_000, 1_000_000):#, 10_000_000):\n",
    "        rng_key = jax.random.key(0)\n",
    "        by_size[size] = benchmark(method, rng_key, size)\n",
    "\n",
    "    results[method.__name__] = by_size"
   ]
  },
  {
   "cell_type": "code",
   "execution_count": null,
   "id": "f32f7fb034925c21",
   "metadata": {},
   "outputs": [],
   "source": [
    "for name, by_size in results.items():\n",
    "    sizes = []\n",
    "    means = []\n",
    "    stds = []\n",
    "    for size, values in by_size.items():\n",
    "        sizes.append(size)\n",
    "        means.append(values.mean())\n",
    "        stds.append(values.std())\n",
    "\n",
    "    plt.errorbar(sizes, means, stds, label=name)\n",
    "\n",
    "plt.yscale('log')\n",
    "plt.xscale('log')\n",
    "plt.legend()"
   ]
  },
  {
   "cell_type": "code",
   "execution_count": null,
   "id": "4723cb3d16c4bf09",
   "metadata": {},
   "outputs": [],
   "source": []
  }
 ],
 "metadata": {
  "kernelspec": {
   "display_name": "Python 3",
   "language": "python",
   "name": "python3"
  },
  "language_info": {
   "codemirror_mode": {
    "name": "ipython",
    "version": 2
   },
   "file_extension": ".py",
   "mimetype": "text/x-python",
   "name": "python",
   "nbconvert_exporter": "python",
   "pygments_lexer": "ipython2"
  }
 },
 "nbformat": 4,
 "nbformat_minor": 5
}
