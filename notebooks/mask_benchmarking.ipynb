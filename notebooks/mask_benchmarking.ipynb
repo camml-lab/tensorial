{
 "cells": [
  {
   "cell_type": "code",
   "execution_count": 1,
   "id": "initial_id",
   "metadata": {
    "collapsed": true,
    "ExecuteTime": {
     "end_time": "2024-04-24T09:05:01.491362Z",
     "start_time": "2024-04-24T09:05:00.624462Z"
    }
   },
   "outputs": [],
   "source": [
    "import time\n",
    "\n",
    "import jax\n",
    "import jax.numpy as jnp\n",
    "import numpy as np\n",
    "import matplotlib.pyplot as plt\n",
    "\n",
    "array_dims = tuple()"
   ]
  },
  {
   "cell_type": "code",
   "outputs": [],
   "source": [
    "warmup_iters = 5 \n",
    "bench_iters = 30"
   ],
   "metadata": {
    "collapsed": false,
    "ExecuteTime": {
     "end_time": "2024-04-24T09:05:01.497029Z",
     "start_time": "2024-04-24T09:05:01.493551Z"
    }
   },
   "id": "9091359e8f6cbd8b",
   "execution_count": 2
  },
  {
   "cell_type": "code",
   "outputs": [],
   "source": [
    "def transpose_method(array, mask):\n",
    "    return jnp.where(mask, array.T, 0.0).T"
   ],
   "metadata": {
    "collapsed": false,
    "ExecuteTime": {
     "end_time": "2024-04-24T09:05:01.502546Z",
     "start_time": "2024-04-24T09:05:01.498656Z"
    }
   },
   "id": "df5378645983aeb5",
   "execution_count": 3
  },
  {
   "cell_type": "code",
   "outputs": [],
   "source": [
    "def reshape_method(array, mask):\n",
    "    return jnp.where(mask.reshape(-1, *(1,) * len(array.shape[1:])), array, 0.0)"
   ],
   "metadata": {
    "collapsed": false,
    "ExecuteTime": {
     "end_time": "2024-04-24T09:05:01.508943Z",
     "start_time": "2024-04-24T09:05:01.504276Z"
    }
   },
   "id": "e2f8dcd05c3c28fa",
   "execution_count": 4
  },
  {
   "cell_type": "code",
   "outputs": [],
   "source": [
    "methods = [transpose_method, reshape_method]"
   ],
   "metadata": {
    "collapsed": false,
    "ExecuteTime": {
     "end_time": "2024-04-24T09:05:01.515507Z",
     "start_time": "2024-04-24T09:05:01.511863Z"
    }
   },
   "id": "1eceba02cdd6dc80",
   "execution_count": 5
  },
  {
   "cell_type": "code",
   "outputs": [],
   "source": [
    "def benchmark(method, rng_key, size: int):\n",
    "    @jax.jit\n",
    "    def bench(array, mask):\n",
    "        res = method(array, mask)\n",
    "        return res.sum()\n",
    "\n",
    "    # Warmup\n",
    "    for _ in range(warmup_iters):\n",
    "        array = jax.random.uniform(rng_key, (size, *array_dims))\n",
    "        rng_key, key = jax.random.split(rng_key)\n",
    "        mask = jax.random.choice(rng_key, jnp.array((True, False)), shape=(size,))\n",
    "        bench(array, mask)\n",
    "\n",
    "    results = []\n",
    "    for _ in range(bench_iters):\n",
    "        array = jax.random.uniform(rng_key, (size, *array_dims))\n",
    "        rng_key, key = jax.random.split(rng_key)\n",
    "        mask = jax.random.choice(rng_key, jnp.array((True, False)), shape=(size,))\n",
    "        t0 = time.time()\n",
    "        bench(array, mask)\n",
    "        dt = time.time() - t0\n",
    "        results.append(dt)\n",
    "\n",
    "    return np.array(results)"
   ],
   "metadata": {
    "collapsed": false,
    "ExecuteTime": {
     "end_time": "2024-04-24T09:05:01.524814Z",
     "start_time": "2024-04-24T09:05:01.517251Z"
    }
   },
   "id": "e3bed8379e2d5966",
   "execution_count": 6
  },
  {
   "cell_type": "code",
   "outputs": [],
   "source": [
    "results = {}\n",
    "for method in methods:\n",
    "    by_size = {}\n",
    "    for size in (10, 100, 10_000, 100_000, 1_000_000):#, 10_000_000):\n",
    "        rng_key = jax.random.key(0)\n",
    "        by_size[size] = benchmark(method, rng_key, size)\n",
    "\n",
    "    results[method.__name__] = by_size"
   ],
   "metadata": {
    "collapsed": false,
    "ExecuteTime": {
     "end_time": "2024-04-24T09:05:03.313223Z",
     "start_time": "2024-04-24T09:05:01.526651Z"
    }
   },
   "id": "bf6064bbe0959bff",
   "execution_count": 7
  },
  {
   "cell_type": "code",
   "outputs": [
    {
     "data": {
      "text/plain": "<matplotlib.legend.Legend at 0x7f804c7853f0>"
     },
     "execution_count": 8,
     "metadata": {},
     "output_type": "execute_result"
    },
    {
     "data": {
      "text/plain": "<Figure size 640x480 with 1 Axes>",
      "image/png": "[encoded data removed]"
     },
     "metadata": {},
     "output_type": "display_data"
    }
   ],
   "source": [
    "for name, by_size in results.items():\n",
    "    sizes = []\n",
    "    means = []\n",
    "    stds = []\n",
    "    for size, values in by_size.items():\n",
    "        sizes.append(size)\n",
    "        means.append(values.mean())\n",
    "        stds.append(values.std())\n",
    "\n",
    "    plt.errorbar(sizes, means, stds, label=name)\n",
    "\n",
    "plt.yscale('log')\n",
    "plt.xscale('log')\n",
    "plt.legend()"
   ],
   "metadata": {
    "collapsed": false,
    "ExecuteTime": {
     "end_time": "2024-04-24T09:05:04.246671Z",
     "start_time": "2024-04-24T09:05:03.314475Z"
    }
   },
   "id": "f32f7fb034925c21",
   "execution_count": 8
  },
  {
   "cell_type": "code",
   "outputs": [],
   "source": [],
   "metadata": {
    "collapsed": false,
    "ExecuteTime": {
     "end_time": "2024-04-24T09:05:04.249241Z",
     "start_time": "2024-04-24T09:05:04.247546Z"
    }
   },
   "id": "4723cb3d16c4bf09",
   "execution_count": 8
  }
 ],
 "metadata": {
  "kernelspec": {
   "display_name": "Python 3",
   "language": "python",
   "name": "python3"
  },
  "language_info": {
   "codemirror_mode": {
    "name": "ipython",
    "version": 2
   },
   "file_extension": ".py",
   "mimetype": "text/x-python",
   "name": "python",
   "nbconvert_exporter": "python",
   "pygments_lexer": "ipython2",
   "version": "2.7.6"
  }
 },
 "nbformat": 4,
 "nbformat_minor": 5
}
